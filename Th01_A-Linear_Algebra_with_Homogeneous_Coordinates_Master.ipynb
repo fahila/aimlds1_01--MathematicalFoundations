{
  "nbformat": 4,
  "nbformat_minor": 0,
  "metadata": {
    "colab": {
      "name": "Linear Algebra with Homogeneous Coordinates - Master.ipynb",
      "version": "0.3.2",
      "provenance": []
    },
    "kernelspec": {
      "name": "python3",
      "display_name": "Python 3"
    }
  },
  "cells": [
    {
      "cell_type": "markdown",
      "metadata": {
        "id": "view-in-github",
        "colab_type": "text"
      },
      "source": [
        "[View in Colaboratory](https://colab.research.google.com/github/schwaaweb/aimlds1_01/blob/master/Th01_A-Linear_Algebra_with_Homogeneous_Coordinates_Master.ipynb)"
      ]
    },
    {
      "metadata": {
        "id": "llPXtp1TwpFZ",
        "colab_type": "code",
        "colab": {}
      },
      "cell_type": "code",
      "source": [
        "# LAMBDA SCHOOL\n",
        "#\n",
        "# MACHINE LEARNING\n",
        "#\n",
        "# MIT LICENSE\n",
        "\n",
        "import numpy as np"
      ],
      "execution_count": 0,
      "outputs": []
    },
    {
      "metadata": {
        "id": "WkLmhWWuwu6d",
        "colab_type": "text"
      },
      "cell_type": "markdown",
      "source": [
        "# Matrices everywhere\n",
        "\n",
        "Linear algebra is the arithmetic of points in space. We can take any 2d coordinate and transform it by multiplying it by a matrix: $\\begin{pmatrix} cos(\\theta) & -sin(\\theta) \\\\ sin(\\theta) & cos(\\theta) \\end{pmatrix}$ to rotate it or $\\begin{pmatrix} S_{xx} & S_{xy} \\\\ S_{yx} & S_{yy} \\end{pmatrix}$ to scale it.\n",
        "\n",
        "Translation of a 2d vector isn't so clean: no `2x2` matrix can translate a 2d coordinate from one location to another. So far, we've translated 2d coordinates simply by adding them with another vector $v_t = v + t$.\n",
        "\n",
        "Modern computers and Machine Learning algorithms take advantage of GPU acceleration. Graphics Processing Units (GPU) are just massively parallel matrix multiplication machines, and they work because a method has been devised that allows us to transform points in any space $D$ by multiplying them with a matrix of size $(D+1,D+1)$.\n",
        "\n",
        "## Homogeneous coordinates\n",
        "\n",
        "A homogeneous coordinate adds an extra dimension to a vector $v = \\begin{pmatrix}x \\\\ y\\end{pmatrix}$. In homogeneous coordinates, $v = \\begin{pmatrix}x \\\\ y \\\\ 1\\end{pmatrix}$. The third dimension is ignored in 2d, but matters in 3d. We won't cover the implications of the third dimension in this course, but will treat it always as 1.\n",
        "\n",
        "Now, our transformation matrices become 3d as well:\n",
        "\n",
        "$R = \\begin{pmatrix}cos(\\theta) & -sin(\\theta) & 0 \\\\ sin(\\theta) & cos(\\theta) & 0 \\\\ 0 & 0 & 1\\end{pmatrix}$\n",
        "\n",
        "$S = \\begin{pmatrix} S_{xx} & S_{xy} & 0 \\\\ S_{yx} & S_{yy} & 0 \\\\ 0 & 0 & 1\\end{pmatrix}$\n",
        "\n",
        "$T = \\begin{pmatrix} 1 & 0 & t_x \\\\ 0 & 1 & t_y \\\\ 0 & 0 & 1\\end{pmatrix}$\n",
        "\n",
        "Any transformation of points is a composition of matrices! Consider \n",
        "\n",
        "$T_oRST_nv$\n",
        "\n",
        "the composition of matrices that translates a group of vectors to the origin, rotates them, scales them, then moves them to another location.\n"
      ]
    },
    {
      "metadata": {
        "id": "FpNmgNvw4nZc",
        "colab_type": "text"
      },
      "cell_type": "markdown",
      "source": [
        "# Animation\n",
        "\n",
        "Consider the following set of points $v$:"
      ]
    },
    {
      "metadata": {
        "id": "Q-10djl04vwv",
        "colab_type": "code",
        "colab": {
          "base_uri": "https://localhost:8080/",
          "height": 364
        },
        "outputId": "1c1ab063-3ded-4991-9fc0-a4e06bac49ab"
      },
      "cell_type": "code",
      "source": [
        "import matplotlib.pyplot as plt\n",
        "\n",
        "p = np.linspace(-np.pi/2,np.pi/2,11)\n",
        "x = np.sin(p)\n",
        "\n",
        "v = np.column_stack((np.concatenate((x,x)),np.concatenate((np.cos(p),-np.cos(p)))))\n",
        "\n",
        "plt.plot(v[::,0:1:],v[::,1:2:],'bo')\n",
        "plt.ylim(-5,5)\n",
        "plt.xlim(-5,5)"
      ],
      "execution_count": 130,
      "outputs": [
        {
          "output_type": "execute_result",
          "data": {
            "text/plain": [
              "(-5, 5)"
            ]
          },
          "metadata": {
            "tags": []
          },
          "execution_count": 130
        },
        {
          "output_type": "display_data",
          "data": {
            "image/png": "[encoded data removed]",
            "text/plain": [
              "<matplotlib.figure.Figure at 0x7f9e5365b940>"
            ]
          },
          "metadata": {
            "tags": []
          }
        }
      ]
    },
    {
      "metadata": {
        "id": "RuQI6HbxOU6A",
        "colab_type": "text"
      },
      "cell_type": "markdown",
      "source": [
        "These points can be scaled, rotated, and translated using the above matrices:"
      ]
    },
    {
      "metadata": {
        "id": "vtkscbKsOc_n",
        "colab_type": "code",
        "colab": {
          "base_uri": "https://localhost:8080/",
          "height": 524
        },
        "outputId": "d30c9545-5451-4846-d13f-6c94bba9c054"
      },
      "cell_type": "code",
      "source": [
        "R = np.matrix([[np.cos(0.2),-np.sin(0.2),0],[np.sin(0.2),np.cos(0.2),0],[0,0,1]])\n",
        "S = np.matrix([[2.5,0,0],[0,2.5,0],[0,0,1]])\n",
        "T = np.matrix([[1,0,0],[0,1,0],[12,9,1]])\n",
        "\n",
        "print(\"R = \", R)\n",
        "print(\"S = \", S)\n",
        "print(\"T = \", T)\n",
        "\n",
        "M = R * S * T\n",
        "\n",
        "# Add a homogeneous coordinate to v!\n",
        "v1 = np.column_stack((v,[1]*len(v[::,0:1:])))\n",
        "\n",
        "r = v1 * M\n",
        "\n",
        "plt.plot(r[::,0:1:],r[::,1:2:],'go')\n",
        "plt.ylim(-15,15)\n",
        "plt.xlim(-15,15)\n"
      ],
      "execution_count": 144,
      "outputs": [
        {
          "output_type": "stream",
          "text": [
            "R =  [[ 0.98006658 -0.19866933  0.        ]\n",
            " [ 0.19866933  0.98006658  0.        ]\n",
            " [ 0.          0.          1.        ]]\n",
            "S =  [[2.5 0.  0. ]\n",
            " [0.  2.5 0. ]\n",
            " [0.  0.  1. ]]\n",
            "T =  [[ 1  0  0]\n",
            " [ 0  1  0]\n",
            " [12  9  1]]\n"
          ],
          "name": "stdout"
        },
        {
          "output_type": "execute_result",
          "data": {
            "text/plain": [
              "(-15, 15)"
            ]
          },
          "metadata": {
            "tags": []
          },
          "execution_count": 144
        },
        {
          "output_type": "display_data",
          "data": {
            "image/png": "[encoded data removed]",
            "text/plain": [
              "<matplotlib.figure.Figure at 0x7f9e52ff5978>"
            ]
          },
          "metadata": {
            "tags": []
          }
        }
      ]
    },
    {
      "metadata": {
        "id": "Hk4yuS9OTydH",
        "colab_type": "text"
      },
      "cell_type": "markdown",
      "source": [
        "# Thursday Assignment\n",
        "\n",
        "Write a Colab animation for rolling the ball along the 0 axis, out to 15, and back again.\n"
      ]
    }
  ]
}