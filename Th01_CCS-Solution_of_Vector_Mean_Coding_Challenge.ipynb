{
  "nbformat": 4,
  "nbformat_minor": 0,
  "metadata": {
    "colab": {
      "name": "Solution of Vector Mean Coding Challenge.ipynb",
      "version": "0.3.2",
      "provenance": [],
      "collapsed_sections": []
    },
    "kernelspec": {
      "name": "python3",
      "display_name": "Python 3"
    }
  },
  "cells": [
    {
      "cell_type": "markdown",
      "metadata": {
        "id": "view-in-github",
        "colab_type": "text"
      },
      "source": [
        "[View in Colaboratory](https://colab.research.google.com/github/schwaaweb/aimlds1_01/blob/master/Th01_CCS-Solution_of_Vector_Mean_Coding_Challenge.ipynb)"
      ]
    },
    {
      "metadata": {
        "id": "pvORCN22-kUH",
        "colab_type": "code",
        "colab": {}
      },
      "cell_type": "code",
      "source": [
        "import numpy as np"
      ],
      "execution_count": 0,
      "outputs": []
    },
    {
      "metadata": {
        "id": "P02PwVyLCkLE",
        "colab_type": "text"
      },
      "cell_type": "markdown",
      "source": [
        "Write a function that takes in a vector (in the form of a 1D numpy array) and returns the average value across its components.\n",
        "\n",
        "For example, [4,2] should return 3 and [5, 6, 7, 8] should return 6.5. You can assume the vector will have at least one coomponent."
      ]
    },
    {
      "metadata": {
        "id": "dmtDPKX9CsX0",
        "colab_type": "code",
        "colab": {}
      },
      "cell_type": "code",
      "source": [
        "#vector = 0\n",
        "\n",
        "def average(vector):\n",
        "  return sum(vector) / len(vector)"
      ],
      "execution_count": 0,
      "outputs": []
    },
    {
      "metadata": {
        "id": "f0HXg2gTKR8B",
        "colab_type": "text"
      },
      "cell_type": "markdown",
      "source": [
        "Let's see if it worked:"
      ]
    },
    {
      "metadata": {
        "id": "2lrtNAjYKThU",
        "colab_type": "code",
        "colab": {
          "base_uri": "https://localhost:8080/",
          "height": 138
        },
        "outputId": "707d87fa-2636-4815-dcdd-6a8935d1a9a7"
      },
      "cell_type": "code",
      "source": [
        "testSet = [[np.array([1, 2, 3, 4]), 2.5],\n",
        "        [np.array([18, 65, 11]), 94/3],\n",
        "        [np.array([10]), 10],\n",
        "        [np.array([-8]), -8],\n",
        "        [np.array([-4,-1,-2]), -7/3],\n",
        "        [np.array([0,0,0]), 0],\n",
        "        [np.array([-10,10]), 0]]\n",
        "\n",
        "for test in testSet:\n",
        "  if (average(test[0]) == test[1]):\n",
        "    print (\"Correct result\")\n",
        "  else:\n",
        "    print (\"Incorrect result\")"
      ],
      "execution_count": 6,
      "outputs": [
        {
          "output_type": "stream",
          "text": [
            "Correct result\n",
            "Correct result\n",
            "Correct result\n",
            "Correct result\n",
            "Correct result\n",
            "Correct result\n",
            "Correct result\n"
          ],
          "name": "stdout"
        }
      ]
    },
    {
      "metadata": {
        "id": "Jp20wSX3LPUF",
        "colab_type": "text"
      },
      "cell_type": "markdown",
      "source": [
        "## Bonus Challenge\n",
        "\n",
        "`testSet` is a small group of points. Rearrange the values in testSet to be 2d, then rotate them around their centroid by 45 degrees."
      ]
    },
    {
      "metadata": {
        "id": "KF3PHi0Kefnj",
        "colab_type": "text"
      },
      "cell_type": "markdown",
      "source": [
        "*Data analysis*\n",
        "\n",
        "Input data is a 2d matrix containing an array in the first column and an average in the second.\n",
        "\n",
        "Data scientist determined that the \"data\" was in the 1st column, 2nd column is undesirable meta data: the mean of each 1st column. Discarded 2nd column.\n"
      ]
    },
    {
      "metadata": {
        "id": "EcpeYCxFLud2",
        "colab_type": "code",
        "colab": {
          "base_uri": "https://localhost:8080/",
          "height": 628
        },
        "outputId": "87df1754-6441-4ace-bdd7-33f115a339ab"
      },
      "cell_type": "code",
      "source": [
        "# rearrange\n",
        "data = []\n",
        "for x in testSet:\n",
        "  y = x[0].flatten()\n",
        "  data.append(y.flatten())\n",
        "\n",
        "result = np.concatenate(data)\n",
        "\n",
        "print(result)\n",
        "print(result.shape)\n",
        "\n",
        "result = np.append(result,0) # took me 10 minutes\n",
        "\n",
        "z = np.matrix(result)\n",
        "\n",
        "z = z.reshape((2,-1))\n",
        "\n",
        "print(\"### z ###\")\n",
        "print(z)\n",
        "\n",
        "### data munging is a pain! ###\n",
        "\n",
        "import matplotlib.pyplot as plt\n",
        "\n",
        "#z[0:1:,::] # the first row of z\n",
        "#z[start:end:step_size, start:end:step_size]\n",
        "\n",
        "# plot z:\n",
        "plt.plot(z[0:1:,::],z[1:2:,::],'bo')\n",
        "\n",
        "# find centroid\n",
        "centroid = np.mean(z,1)\n",
        "\n",
        "print(centroid)\n",
        "plt.plot(centroid[0],centroid[1],'gv')\n",
        "\n",
        "# translate\n",
        "centered = z - centroid\n",
        "plt.plot(centered[0:1:,::],centered[1:2:,::],'ro')\n",
        "\n",
        "# rotate\n",
        "theta = np.pi/4\n",
        "R = np.matrix([[np.cos(theta),-np.sin(theta)],[np.sin(theta),np.cos(theta)]])\n",
        "rotated = R * centered\n",
        "\n",
        "\n",
        "\n",
        "# undo translation\n",
        "final = rotated + centroid\n",
        "\n",
        "plt.plot(final[0:1:,::],final[1:2:,::],'yo')"
      ],
      "execution_count": 81,
      "outputs": [
        {
          "output_type": "stream",
          "text": [
            "[  1   2   3   4  18  65  11  10  -8  -4  -1  -2   0   0   0 -10  10]\n",
            "(17,)\n",
            "### z ###\n",
            "[[  1   2   3   4  18  65  11  10  -8]\n",
            " [ -4  -1  -2   0   0   0 -10  10   0]]\n",
            "[[11.77777778]\n",
            " [-0.77777778]]\n"
          ],
          "name": "stdout"
        },
        {
          "output_type": "execute_result",
          "data": {
            "text/plain": [
              "[<matplotlib.lines.Line2D at 0x7f6d603255f8>,\n",
              " <matplotlib.lines.Line2D at 0x7f6d6033e470>,\n",
              " <matplotlib.lines.Line2D at 0x7f6d6033e5f8>,\n",
              " <matplotlib.lines.Line2D at 0x7f6d6033e780>,\n",
              " <matplotlib.lines.Line2D at 0x7f6d6033e908>,\n",
              " <matplotlib.lines.Line2D at 0x7f6d6033ea90>,\n",
              " <matplotlib.lines.Line2D at 0x7f6d6033ec18>,\n",
              " <matplotlib.lines.Line2D at 0x7f6d6033eda0>,\n",
              " <matplotlib.lines.Line2D at 0x7f6d6033ef28>]"
            ]
          },
          "metadata": {
            "tags": []
          },
          "execution_count": 81
        },
        {
          "output_type": "display_data",
          "data": {
            "image/png": "[encoded data removed]",
            "text/plain": [
              "<matplotlib.figure.Figure at 0x7f6d60452b00>"
            ]
          },
          "metadata": {
            "tags": []
          }
        }
      ]
    }
  ]
}