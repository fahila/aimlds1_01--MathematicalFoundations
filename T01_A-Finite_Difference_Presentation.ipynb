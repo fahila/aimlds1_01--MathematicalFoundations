{
  "nbformat": 4,
  "nbformat_minor": 0,
  "metadata": {
    "colab": {
      "name": "Finite Difference Presentation.ipynb",
      "version": "0.3.2",
      "provenance": [],
      "collapsed_sections": []
    },
    "kernelspec": {
      "name": "python3",
      "display_name": "Python 3"
    }
  },
  "cells": [
    {
      "cell_type": "markdown",
      "metadata": {
        "id": "view-in-github",
        "colab_type": "text"
      },
      "source": [
        "[View in Colaboratory](https://colab.research.google.com/github/schwaaweb/aimlds1_01/blob/master/T01_A-Finite_Difference_Presentation.ipynb)"
      ]
    },
    {
      "metadata": {
        "id": "oSotEn0RvkD0",
        "colab_type": "text"
      },
      "cell_type": "markdown",
      "source": [
        "# Operationalizing Finite Differences\n",
        "\n",
        "Today you learned to write an algorithm that can compute the derivative of any function.\n",
        "\n",
        "With a set of `x` values, a set of `y` values, and a position `at_x` that you want to know the derivative, the finite different method gives you the answer without calculus or formal mathematics.\n",
        "\n",
        "The code that we have for computing finite differences isn't ready for production yet, however. We need to create a new function that takes in only the values above and draws a graph just like the ones we drew this morning.\n",
        "\n"
      ]
    },
    {
      "metadata": {
        "id": "9bxgB-ENvXCP",
        "colab_type": "code",
        "colab": {
          "base_uri": "https://localhost:8080/",
          "height": 347
        },
        "outputId": "2eaaaa0a-5101-400d-84bf-08fb75dcd89d"
      },
      "cell_type": "code",
      "source": [
        "# LAMBDA SCHOOL\n",
        "# \n",
        "# MACHINE LEARNING\n",
        "#\n",
        "# MIT LICENSE\n",
        "\n",
        "import numpy as np\n",
        "import matplotlib.pyplot as plt\n",
        "\n",
        "x = np.linspace(-4,4,30)\n",
        "y = np.sin(x)\n",
        "plt.plot(x,y);\n",
        "plt.plot(x,x*np.cos(-1.2413)-0.546,'r');"
      ],
      "execution_count": 2,
      "outputs": [
        {
          "output_type": "display_data",
          "data": {
            "image/png": "[encoded data removed]",
            "text/plain": [
              "<matplotlib.figure.Figure at 0x7f5dd5b1aa58>"
            ]
          },
          "metadata": {
            "tags": []
          }
        }
      ]
    },
    {
      "metadata": {
        "id": "S4Hi84kF3Go2",
        "colab_type": "text"
      },
      "cell_type": "markdown",
      "source": [
        "# Assignment\n",
        "\n",
        "The code that was written previously was only slightly more general\n",
        "than the example above (don't use this example for your assignment).\n",
        "Copy the code from our previous work and refactor it into a general form.\n",
        "\n",
        "The form your new code should take is as a function that plots a graph and returns a single value:\n",
        "\n",
        "```\n",
        "def compute_and_plot_derivative(x_values, y_values, at_x):\n",
        "  # plot the graph above using only the x_values, y_values, and\n",
        "  # the point where the derivative should be calculated\n",
        "```\n",
        "\n",
        "So, basing your function on the data in the above example, your function"
      ]
    },
    {
      "metadata": {
        "id": "pgmfDLcr3oyf",
        "colab_type": "code",
        "colab": {
          "base_uri": "https://localhost:8080/",
          "height": 166
        },
        "outputId": "3257ba47-5a82-46f4-d348-e4f85b01b7b7"
      },
      "cell_type": "code",
      "source": [
        "# Your code here\n",
        "\n",
        "d_x = compute_and_plot_derivative(x,y,-1.2413)"
      ],
      "execution_count": 3,
      "outputs": [
        {
          "output_type": "error",
          "ename": "NameError",
          "evalue": "ignored",
          "traceback": [
            "\u001b[0;31m---------------------------------------------------------------------------\u001b[0m",
            "\u001b[0;31mNameError\u001b[0m                                 Traceback (most recent call last)",
            "\u001b[0;32m<ipython-input-3-924511791426>\u001b[0m in \u001b[0;36m<module>\u001b[0;34m()\u001b[0m\n\u001b[0;32m----> 1\u001b[0;31m \u001b[0md_x\u001b[0m \u001b[0;34m=\u001b[0m \u001b[0mcompute_and_plot_derivative\u001b[0m\u001b[0;34m(\u001b[0m\u001b[0mx\u001b[0m\u001b[0;34m,\u001b[0m\u001b[0my\u001b[0m\u001b[0;34m,\u001b[0m\u001b[0;34m-\u001b[0m\u001b[0;36m1.2413\u001b[0m\u001b[0;34m)\u001b[0m\u001b[0;34m\u001b[0m\u001b[0m\n\u001b[0m",
            "\u001b[0;31mNameError\u001b[0m: name 'compute_and_plot_derivative' is not defined"
          ]
        }
      ]
    },
    {
      "metadata": {
        "id": "u49T1Bl938TZ",
        "colab_type": "text"
      },
      "cell_type": "markdown",
      "source": [
        "Should plot the identical graph above (with embellishments like title and x and y axis labels).\n",
        "\n",
        "`d_x` should now be nearly equal to `0.32356649113298463`. If you pass in more values for x and y,\n",
        "`d_x` will be closer to the value above. If you pass in fewer values, it will be farther from that value.\n",
        "\n",
        "Your function should work without further modification for the following datasets:"
      ]
    },
    {
      "metadata": {
        "id": "1CvjQJkc4gWa",
        "colab_type": "code",
        "colab": {}
      },
      "cell_type": "code",
      "source": [
        "x1 = [0.28168026, 0.34134277, 0.42081375, 0.55130831, 0.6057354,  0.84103564,\n",
        " 1.31257415, 1.56321831, 2.01270236, 2.66082013, 2.74666207, 3.00984887,\n",
        " 3.39409509, 3.42475852, 3.65114374, 4.06170381, 4.1513843,  4.24649991,\n",
        " 4.32139399, 4.55842455, 4.58983727, 4.77012005, 4.9475257,  5.34005008,\n",
        " 5.85765093]\n",
        "y2 = [ 0.46362527,  0.73294001,  0.81911768,  0.62397262,  0.7422717,   1.01723695,\n",
        "  1.13183671,  1.10449711,  1.06942397,  0.71061695,  0.69012134,  0.57428101,\n",
        " -0.08959229,  0.27030529, -0.36016325, -0.43129598, -0.56491708, -0.79603396,\n",
        " -0.81514831, -0.61327031, -0.55086764, -0.49335908, -0.45672164, -0.71166013,\n",
        " -0.29851956]\n",
        "\n",
        "x2 = [0.,         0.2166615, 0.4333231, 0.6499846, 0.8666462, 1.08330781,\n",
        " 1.2999693, 1.5166309, 1.733292,  1.9499540, 2.1666156, 2.38327719,\n",
        " 2.5999387, 2.8166003, 3.0332618, 3.2499234, 3.46658,   3.68324656,\n",
        " 3.8999081, 4.1165696, 4.3332312, 4.5498928, 4.7665543, 4.98321593,\n",
        " 5.199877,  5.4165390, 5.6332006, 5.8498621, 6.0665237, 6.28318531]\n",
        "y2 = [ 0.46362527,  0.73294001,  0.81911768,  0.62397262,  0.7422717,   1.01723695,\n",
        "  1.13183671,  1.10449711,  1.06942397,  0.71061695,  0.69012134,  0.57428101,\n",
        " -0.08959229,  0.27030529, -0.36016325, -0.43129598, -0.56491708, -0.79603396,\n",
        " -0.81514831, -0.61327031, -0.55086764, -0.49335908, -0.45672164, -0.71166013,\n",
        " -0.29851956]\n",
        "\n",
        "x3 = np.linspace(0,100,100)\n",
        "y3 = [  729.4845574,   475.0611947,   240.4334393,    30.50742381, \n",
        "   604.6297222,   125.2957177,   691.5316061,   964.99667096,   \n",
        "   816.2554258,   495.3598346,   436.4968649,   740.25559021, \n",
        "   654.6646517,   405.6278470,   834.145555,    946.09877511, \n",
        "   624.2559070,   417.7937437,   419.0277195,  1013.62961384, \n",
        "   415.5010489,   982.3249083,   661.5300339,   571.99223687, \n",
        "   758.4703045,  1303.4854509,  1285.4455239,  1113.55460835, \n",
        "   958.4500553,  1207.6332111,  1072.597021,   1453.33283097, \n",
        "  1514.1042319,  1468.8522200,  1284.8464918,  1796.22727441, \n",
        "  1404.3618423,  1460.4388066,  1907.1800181,  2053.43061338, \n",
        "  2058.0458032,  2254.6010678,  2104.2686325,  2149.82884562, \n",
        "  2249.1117060,  2095.856127,   2500.1958041,  2470.42411986, \n",
        "  2796.7721020,  2870.5968791,  2834.5997074,  3008.92287301, \n",
        "  2880.4797099,  3272.9992026,  3215.4994201,  3388.38227248,  \n",
        "  3411.2486252,  3548.7569331,  3619.7782283,  3899.48776262, \n",
        "  3685.4539117,  4150.8195193,  4288.5293686,  4054.25566034, \n",
        "  4192.4240062,  4349.9710545,  4581.8661462,  4878.36904006, \n",
        "  4908.3195941,  5002.2830186,  5226.009621,   5214.61440768, \n",
        "  5530.0910824,  5538.2984363,  5759.8429944,  5889.15936743, \n",
        "  5978.4718852,  6225.8627877,  6362.5612389,  6449.20108997, \n",
        "  6578.3555966,  6875.4707470,  6883.7796190,  7075.2665726, \n",
        "  7346.7711977,  7425.530464,   7553.7317341,  7769.85008695, \n",
        "  7914.2513686,  8098.076264,   8297.6332247,  8489.09433195, \n",
        "  8672.5214491,  8881.6744658,  9024.458000,   9233.57494599, \n",
        "  9413.8406213,  9619.3855005,  9799.8070203, 10000.        ]"
      ],
      "execution_count": 0,
      "outputs": []
    },
    {
      "metadata": {
        "id": "QewcmmRK-Zrm",
        "colab_type": "code",
        "colab": {}
      },
      "cell_type": "code",
      "source": [
        ""
      ],
      "execution_count": 0,
      "outputs": []
    },
    {
      "metadata": {
        "id": "pKrYU0U_8SGe",
        "colab_type": "text"
      },
      "cell_type": "markdown",
      "source": [
        "Plus two more interesting datasets of your own choosing."
      ]
    },
    {
      "metadata": {
        "id": "nYlHjYhP8WPO",
        "colab_type": "text"
      },
      "cell_type": "markdown",
      "source": [
        "# Stretch Goal\n",
        "\n",
        "Now that you can draw an tangent (derivative) line onto any function, it would be an awesome demo to animate it. Animate code that walks acros your dataset, drawing the tangent line on top of the function graph for each pair of `(i, i+1)` values."
      ]
    }
  ]
}