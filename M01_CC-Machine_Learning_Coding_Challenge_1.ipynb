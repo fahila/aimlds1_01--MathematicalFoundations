{
  "nbformat": 4,
  "nbformat_minor": 0,
  "metadata": {
    "colab": {
      "name": "Machine Learning Coding Challenge 1.ipynb",
      "version": "0.3.2",
      "provenance": []
    },
    "kernelspec": {
      "name": "python3",
      "display_name": "Python 3"
    }
  },
  "cells": [
    {
      "cell_type": "markdown",
      "metadata": {
        "id": "view-in-github",
        "colab_type": "text"
      },
      "source": [
        "[View in Colaboratory](https://colab.research.google.com/github/schwaaweb/aimlds1_01/blob/master/M01_CC-Machine_Learning_Coding_Challenge_1.ipynb)"
      ]
    },
    {
      "metadata": {
        "id": "TASE2aSJ3lIc",
        "colab_type": "text"
      },
      "cell_type": "markdown",
      "source": [
        "# Coding challenge\n",
        "\n",
        "A function in Python is of the form:"
      ]
    },
    {
      "metadata": {
        "id": "N-8GKe3X3mb9",
        "colab_type": "code",
        "colab": {}
      },
      "cell_type": "code",
      "source": [
        "def f(x):\n",
        "  return x**2"
      ],
      "execution_count": 0,
      "outputs": []
    },
    {
      "metadata": {
        "id": "e6MDZK7p3X8N",
        "colab_type": "text"
      },
      "cell_type": "markdown",
      "source": [
        "Create python definitions of the following five functions:\n",
        "\n",
        "$x^2$\n",
        "\n",
        "$x^3$\n",
        "\n",
        "$x^3 + x^2 - 5$\n",
        "\n",
        "$sin(x)$\n",
        "\n",
        "$cos(x)$\n",
        "\n"
      ]
    },
    {
      "metadata": {
        "id": "3EptVxnB3vUM",
        "colab_type": "code",
        "colab": {}
      },
      "cell_type": "code",
      "source": [
        "# LAMBDA SCHOOL\n",
        "#\n",
        "# MACHINE LEARNING\n",
        "#\n",
        "# MIT LICENSE\n",
        "\n",
        "\"\"\"Your code here\"\"\""
      ],
      "execution_count": 0,
      "outputs": []
    },
    {
      "metadata": {
        "id": "Vujamgd84xZ8",
        "colab_type": "text"
      },
      "cell_type": "markdown",
      "source": [
        "Call each of your functions and demonstrate their result:"
      ]
    },
    {
      "metadata": {
        "id": "WUpNee3241Mp",
        "colab_type": "code",
        "colab": {}
      },
      "cell_type": "code",
      "source": [
        "\"\"\"Call your functions here\"\"\""
      ],
      "execution_count": 0,
      "outputs": []
    },
    {
      "metadata": {
        "id": "MbrLehNS4D30",
        "colab_type": "text"
      },
      "cell_type": "markdown",
      "source": [
        "## Bonus challenge\n",
        "\n",
        "`numpy.vectorize` copies a function that takes a single value as argument and returns a function that takes an array of values as argument, calling the single argument version for each value in the array. Implement your own version of `numpy.vectorize`."
      ]
    },
    {
      "metadata": {
        "id": "9hncieec4fG8",
        "colab_type": "code",
        "colab": {
          "base_uri": "https://localhost:8080/",
          "height": 235
        },
        "outputId": "05c31f83-7e99-4431-89bb-79d489cb18b3"
      },
      "cell_type": "code",
      "source": [
        "# example of vectorize capability\n",
        "y_0 = f(1)\n",
        "y_1 = my_vectorize(f)([1,1,1,1])\n",
        "\n",
        "def my_vectorize(x):\n",
        "  \"\"\"Your code here\"\"\""
      ],
      "execution_count": 8,
      "outputs": [
        {
          "output_type": "error",
          "ename": "NameError",
          "evalue": "ignored",
          "traceback": [
            "\u001b[0;31m---------------------------------------------------------------------------\u001b[0m",
            "\u001b[0;31mNameError\u001b[0m                                 Traceback (most recent call last)",
            "\u001b[0;32m<ipython-input-8-fc1e9561924d>\u001b[0m in \u001b[0;36m<module>\u001b[0;34m()\u001b[0m\n\u001b[1;32m      1\u001b[0m \u001b[0my_0\u001b[0m \u001b[0;34m=\u001b[0m \u001b[0mf\u001b[0m\u001b[0;34m(\u001b[0m\u001b[0;36m1\u001b[0m\u001b[0;34m)\u001b[0m\u001b[0;34m\u001b[0m\u001b[0m\n\u001b[0;32m----> 2\u001b[0;31m \u001b[0my_1\u001b[0m \u001b[0;34m=\u001b[0m \u001b[0mmy_vectorize\u001b[0m\u001b[0;34m(\u001b[0m\u001b[0mf\u001b[0m\u001b[0;34m)\u001b[0m\u001b[0;34m(\u001b[0m\u001b[0;34m[\u001b[0m\u001b[0;36m1\u001b[0m\u001b[0;34m,\u001b[0m\u001b[0;36m1\u001b[0m\u001b[0;34m,\u001b[0m\u001b[0;36m1\u001b[0m\u001b[0;34m,\u001b[0m\u001b[0;36m1\u001b[0m\u001b[0;34m]\u001b[0m\u001b[0;34m)\u001b[0m\u001b[0;34m\u001b[0m\u001b[0m\n\u001b[0m\u001b[1;32m      3\u001b[0m \u001b[0;34m\u001b[0m\u001b[0m\n\u001b[1;32m      4\u001b[0m \u001b[0;32mdef\u001b[0m \u001b[0mmy_vectorize\u001b[0m\u001b[0;34m(\u001b[0m\u001b[0mx\u001b[0m\u001b[0;34m)\u001b[0m\u001b[0;34m:\u001b[0m\u001b[0;34m\u001b[0m\u001b[0m\n\u001b[1;32m      5\u001b[0m   \u001b[0;34m\"\"\"Your code here\"\"\"\u001b[0m\u001b[0;34m\u001b[0m\u001b[0m\n",
            "\u001b[0;31mNameError\u001b[0m: name 'my_vectorize' is not defined"
          ]
        }
      ]
    }
  ]
}