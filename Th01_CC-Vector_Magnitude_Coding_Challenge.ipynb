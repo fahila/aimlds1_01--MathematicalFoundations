{
  "nbformat": 4,
  "nbformat_minor": 0,
  "metadata": {
    "colab": {
      "name": "Vector Magnitude Coding Challenge.ipynb",
      "version": "0.3.2",
      "provenance": []
    },
    "kernelspec": {
      "name": "python3",
      "display_name": "Python 3"
    }
  },
  "cells": [
    {
      "cell_type": "markdown",
      "metadata": {
        "id": "view-in-github",
        "colab_type": "text"
      },
      "source": [
        "[View in Colaboratory](https://colab.research.google.com/github/schwaaweb/aimlds1_01/blob/master/Th01_CC-Vector_Magnitude_Coding_Challenge.ipynb)"
      ]
    },
    {
      "metadata": {
        "id": "mxa2CK-jTxV1",
        "colab_type": "text"
      },
      "cell_type": "markdown",
      "source": [
        "# Vector Magnitude\n",
        "\n",
        "The length of a vector is called its magnitude. A long, fast, or distant vector will have a large magnitude. Sometimes the magnitude of a vector is informative about its class or cluster, and other times its magnitude might obscure the classification we are interested in.\n",
        "\n",
        "The magnitude of a vector is equal to \n",
        "\n",
        "$\\sqrt{\\sum_i v_i^2}$\n",
        "\n",
        "that is, the square-root of the sum of squares of the scalar terms of the vector. Consider: \n",
        "\n",
        "$\\begin{pmatrix} 1 \\\\ 2 \\\\ 3 \\end{pmatrix}$\n",
        "\n",
        "\n",
        "The magnitude of this vector is\n",
        "\n",
        "$\\sqrt{1^2 + 2^2 + 3^2} = 3.606...$\n",
        "\n",
        "\n",
        "The length of a vector always increases as the number of dimensions increase. Create a random, origin-centered vector for dimensions `d=[2...50]` with `np.array(np.random.random(d)-0.5)`. For each dimension `d`, calculate the norm of your randomly generated vector. When you have computed the norms for all 49 vectors, chart them and write any observations you can make."
      ]
    },
    {
      "metadata": {
        "id": "TTAfCZphUW89",
        "colab_type": "code",
        "colab": {}
      },
      "cell_type": "code",
      "source": [
        "import numpy as np\n",
        "\n",
        "#\n",
        "# Vector Magnitude Challenge\n",
        "# Your Code Here\n",
        "#\n"
      ],
      "execution_count": 0,
      "outputs": []
    }
  ]
}