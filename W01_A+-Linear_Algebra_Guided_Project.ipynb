{
  "nbformat": 4,
  "nbformat_minor": 0,
  "metadata": {
    "colab": {
      "name": "Linear Algebra Guided Project.ipynb",
      "version": "0.3.2",
      "provenance": []
    },
    "kernelspec": {
      "name": "python3",
      "display_name": "Python 3"
    }
  },
  "cells": [
    {
      "cell_type": "markdown",
      "metadata": {
        "id": "view-in-github",
        "colab_type": "text"
      },
      "source": [
        "[View in Colaboratory](https://colab.research.google.com/github/schwaaweb/aimlds1_01/blob/master/W01_A%2B-Linear_Algebra_Guided_Project.ipynb)"
      ]
    },
    {
      "metadata": {
        "id": "KZY0JA08tpRZ",
        "colab_type": "text"
      },
      "cell_type": "markdown",
      "source": [
        "# Linear Algebra\n",
        "\n",
        "## Objectives\n",
        "\n",
        "* Addition and subtraction\n",
        "* Multiplication and division\n",
        "* Magnitude\n",
        "* Dot product\n",
        "* Matrix multiplication\n",
        "* MxN dimension reduction (projection)\n",
        "* Matrix tranposition\n",
        "* Matrix inversion"
      ]
    },
    {
      "metadata": {
        "id": "2nupOQZUtmCv",
        "colab_type": "code",
        "colab": {}
      },
      "cell_type": "code",
      "source": [
        "# LAMBDA SCHOOL\n",
        "#\n",
        "# MACHINE LEARNING\n",
        "#\n",
        "# MIT LICENSE\n",
        "\n",
        "import numpy as np\n",
        "import matplotlib.pyplot as plt"
      ],
      "execution_count": 0,
      "outputs": []
    },
    {
      "metadata": {
        "id": "fVbEfEKiuLWX",
        "colab_type": "code",
        "colab": {
          "base_uri": "https://localhost:8080/",
          "height": 386
        },
        "outputId": "eb4945f6-fcb0-4dfb-fcec-5fc59744f27b"
      },
      "cell_type": "code",
      "source": [
        "# Addition and subtraction\n",
        "\n",
        "v_0 = np.array([3,2])\n",
        "v_1 = np.array([0,1])\n",
        "\n",
        "plt.plot(v_0[0],v_0[1],'o')\n",
        "plt.plot(v_1[0],v_1[1],'o')\n",
        "plt.xlim((-1,8))\n",
        "plt.ylim((-1,4))\n",
        "\n",
        "# Find the function calls in matplotlib that let you\n",
        "# draw the labels (v_0) and (v_1) on the graph\n",
        "\n",
        "v_2 = v_0 + v_1\n",
        "print(v_2)\n",
        "plt.plot(v_2[0],v_2[1],'o')\n",
        "plt.plot(0,0,'o')\n",
        "plt.plot([0,v_1[0]],[0,v_1[1]],color='black')\n",
        "\n",
        "plt.plot([0,v_0[0]],[0,v_0[1]],color=\"red\")\n",
        "plt.plot([v_0[0],v_2[0]],[v_0[1],v_2[1]],color=\"red\")\n",
        "\n",
        "# red line: v_0 + v_2"
      ],
      "execution_count": 34,
      "outputs": [
        {
          "output_type": "stream",
          "text": [
            "[3 3]\n"
          ],
          "name": "stdout"
        },
        {
          "output_type": "execute_result",
          "data": {
            "text/plain": [
              "[<matplotlib.lines.Line2D at 0x7f9daa472d68>]"
            ]
          },
          "metadata": {
            "tags": []
          },
          "execution_count": 34
        },
        {
          "output_type": "display_data",
          "data": {
            "image/png": "[encoded data removed]",
            "text/plain": [
              "<matplotlib.figure.Figure at 0x7f9daa519c18>"
            ]
          },
          "metadata": {
            "tags": []
          }
        }
      ]
    },
    {
      "metadata": {
        "id": "RqOYdVg4uUWl",
        "colab_type": "code",
        "colab": {
          "base_uri": "https://localhost:8080/",
          "height": 386
        },
        "outputId": "58fc3b75-208d-4dc3-ebc3-de8efd0c2bf4"
      },
      "cell_type": "code",
      "source": [
        "# Multiplication and division\n",
        "\n",
        "plt.plot(v_0[0],v_0[1],'o')\n",
        "plt.plot(v_1[0],v_1[1],'o')\n",
        "plt.xlim((-1,8))\n",
        "plt.ylim((-1,8))\n",
        "\n",
        "\n",
        "v_3 = v_0 * 1.5\n",
        "print(v_3)\n",
        "plt.plot(v_3[0],v_3[1],'o')\n",
        "plt.plot([0,v_0[0]],[0,v_0[1]],color=\"black\")\n",
        "\n",
        "#3 * 1.5 = 4.5\n",
        "#2 * 1.5 = 3\n",
        "#v_3 = [3,2] * 1.5 = [3*1.5,2*1.5]\n"
      ],
      "execution_count": 36,
      "outputs": [
        {
          "output_type": "stream",
          "text": [
            "[4.5 3. ]\n"
          ],
          "name": "stdout"
        },
        {
          "output_type": "execute_result",
          "data": {
            "text/plain": [
              "[<matplotlib.lines.Line2D at 0x7f9daa91e208>]"
            ]
          },
          "metadata": {
            "tags": []
          },
          "execution_count": 36
        },
        {
          "output_type": "display_data",
          "data": {
            "image/png": "[encoded data removed]",
            "text/plain": [
              "<matplotlib.figure.Figure at 0x7f9daa401518>"
            ]
          },
          "metadata": {
            "tags": []
          }
        }
      ]
    },
    {
      "metadata": {
        "id": "gTA_Sp7ouWCS",
        "colab_type": "code",
        "colab": {
          "base_uri": "https://localhost:8080/",
          "height": 455
        },
        "outputId": "def6c6c4-2765-4715-c817-6c1c9a6b3915"
      },
      "cell_type": "code",
      "source": [
        "# Magnitude\n",
        "# Magnitude of a vector is its length\n",
        "\n",
        "print(v_0)\n",
        "print(np.linalg.norm(v_0))\n",
        "\n",
        "plt.plot([0,v_0[0]],[0,v_0[1]],color=\"black\")\n",
        "plt.plot([0,3.6],[0,0],color=\"green\")\n",
        "plt.xlim((-1,8))\n",
        "plt.ylim((-1,8))\n",
        "\n",
        "# magnitude of v_0 = sqrt( 3^2 + 2^2 ) = sqrt( 9 + 4 ) = sqrt( 13 )\n",
        "\n",
        "print(np.sqrt(13))\n",
        "\n",
        "def my_magnitude(x):\n",
        "  # root mean squared error:\n",
        "  return np.sqrt( sum(x**2) )\n",
        "\n",
        "print(v_0)\n",
        "print(my_magnitude(v_0))\n",
        "\n",
        "v_norm = v_0 / np.linalg.norm(v_0)\n",
        "plt.plot([0,v_norm[0]],[0,v_norm[1]],color=\"red\")\n",
        "\n",
        "v_4 = np.array([2,5])\n",
        "v_4_norm = v_4 / my_magnitude(v_4)\n",
        "plt.plot([0,v_4[0]],[0,v_4[1]],color=\"black\")  \n",
        "plt.plot([0,v_4_norm[0]],[0,v_4_norm[1]],color=\"red\")  "
      ],
      "execution_count": 53,
      "outputs": [
        {
          "output_type": "stream",
          "text": [
            "[3 2]\n",
            "3.605551275463989\n",
            "3.605551275463989\n",
            "[3 2]\n",
            "3.605551275463989\n"
          ],
          "name": "stdout"
        },
        {
          "output_type": "execute_result",
          "data": {
            "text/plain": [
              "[<matplotlib.lines.Line2D at 0x7f9da9e70978>]"
            ]
          },
          "metadata": {
            "tags": []
          },
          "execution_count": 53
        },
        {
          "output_type": "display_data",
          "data": {
            "image/png": "[encoded data removed]",
            "text/plain": [
              "<matplotlib.figure.Figure at 0x7f9da9f8dcc0>"
            ]
          },
          "metadata": {
            "tags": []
          }
        }
      ]
    },
    {
      "metadata": {
        "id": "5g6DB98YK3gh",
        "colab_type": "text"
      },
      "cell_type": "markdown",
      "source": [
        "Magnitude:\n",
        "\n",
        "$|v| = \\sqrt{\\sum v_i^2}$"
      ]
    },
    {
      "metadata": {
        "id": "Jhyybq8LuXAN",
        "colab_type": "code",
        "colab": {
          "base_uri": "https://localhost:8080/",
          "height": 52
        },
        "outputId": "a2155d51-eaa9-4be6-c36b-ee83d89c71af"
      },
      "cell_type": "code",
      "source": [
        "# Dot product\n",
        "\n",
        "dot_0_1 = np.dot(v_0,v_1)\n",
        "print(dot_0_1)\n",
        "\n",
        "def my_dot_product(x,y):\n",
        "  dp = 0\n",
        "  for i in range(len(x)):\n",
        "    dp = dp + x[i] * y[i]\n",
        "  return dp\n",
        "\n",
        "print(my_dot_product(v_0,v_1))"
      ],
      "execution_count": 56,
      "outputs": [
        {
          "output_type": "stream",
          "text": [
            "2\n",
            "2\n"
          ],
          "name": "stdout"
        }
      ]
    },
    {
      "metadata": {
        "id": "KML4m1fLM3YN",
        "colab_type": "text"
      },
      "cell_type": "markdown",
      "source": [
        "$|a|**bold text**|b|cos(\\theta) = <a, b>$\n",
        "\n",
        "$<a,b> = \\sum{a_ib_i}$"
      ]
    },
    {
      "metadata": {
        "id": "mqtFV2yUuYw6",
        "colab_type": "code",
        "colab": {
          "base_uri": "https://localhost:8080/",
          "height": 502
        },
        "outputId": "bf2e0631-caf2-4951-a537-7ee32a749af3"
      },
      "cell_type": "code",
      "source": [
        "# Matrix multiplication\n",
        "\n",
        "identity = np.matrix([[1,0],[0,1]])\n",
        "print(matrix)\n",
        "print(np.identity(2))\n",
        "print(np.identity(4))\n",
        "print(np.identity(8))\n",
        "\n",
        "matrix = np.matrix([[0.5,0],[0,0.5]])\n",
        "print(matrix)\n",
        "\n",
        "print(v_0*matrix)\n",
        "print(v_0)\n",
        "\n",
        "print((v_0*matrix).shape)\n",
        "print((matrix.shape))\n",
        "\n",
        "huge = np.matrix(np.random.random(1638*5)).reshape((5,1638))\n",
        "\n",
        "print(huge)\n",
        "print(huge.shape)"
      ],
      "execution_count": 74,
      "outputs": [
        {
          "output_type": "stream",
          "text": [
            "[[0.5 0. ]\n",
            " [0.  0.5]]\n",
            "[[1. 0.]\n",
            " [0. 1.]]\n",
            "[[1. 0. 0. 0.]\n",
            " [0. 1. 0. 0.]\n",
            " [0. 0. 1. 0.]\n",
            " [0. 0. 0. 1.]]\n",
            "[[1. 0. 0. 0. 0. 0. 0. 0.]\n",
            " [0. 1. 0. 0. 0. 0. 0. 0.]\n",
            " [0. 0. 1. 0. 0. 0. 0. 0.]\n",
            " [0. 0. 0. 1. 0. 0. 0. 0.]\n",
            " [0. 0. 0. 0. 1. 0. 0. 0.]\n",
            " [0. 0. 0. 0. 0. 1. 0. 0.]\n",
            " [0. 0. 0. 0. 0. 0. 1. 0.]\n",
            " [0. 0. 0. 0. 0. 0. 0. 1.]]\n",
            "[[0.5 0. ]\n",
            " [0.  0.5]]\n",
            "[[1.5 1. ]]\n",
            "[3 2]\n",
            "(1, 2)\n",
            "(2, 2)\n",
            "[[0.60419654 0.82426078 0.70100033 ... 0.51486069 0.09034592 0.20325398]\n",
            " [0.89780535 0.4784149  0.62676206 ... 0.05270196 0.89976623 0.07566503]\n",
            " [0.52884982 0.7443013  0.51322509 ... 0.41620377 0.61595297 0.30720813]\n",
            " [0.89346163 0.70051015 0.73449191 ... 0.32402091 0.8365835  0.88312464]\n",
            " [0.15503796 0.98956301 0.03951033 ... 0.90615181 0.53685625 0.79434024]]\n",
            "(5, 1638)\n"
          ],
          "name": "stdout"
        }
      ]
    },
    {
      "metadata": {
        "id": "hmDJUw1zudB1",
        "colab_type": "code",
        "colab": {
          "base_uri": "https://localhost:8080/",
          "height": 52
        },
        "outputId": "89510b6b-6329-4026-a3b8-f0af6217ff61"
      },
      "cell_type": "code",
      "source": [
        "# MxN projection\n",
        "\n",
        "v_3d = np.matrix([[1],[1],[1]])\n",
        "\n",
        "projection_matrix = np.matrix([[2,0,0],[0,5,1]])\n",
        "\n",
        "print(projection_matrix * v_3d)"
      ],
      "execution_count": 76,
      "outputs": [
        {
          "output_type": "stream",
          "text": [
            "[[2]\n",
            " [6]]\n"
          ],
          "name": "stdout"
        }
      ]
    },
    {
      "metadata": {
        "id": "US8geS1aug4p",
        "colab_type": "code",
        "colab": {
          "base_uri": "https://localhost:8080/",
          "height": 52
        },
        "outputId": "2922ab05-a468-4c28-9fd7-96c828e8cb09"
      },
      "cell_type": "code",
      "source": [
        "# Matrix transposition\n",
        "\n",
        "print(huge.shape)\n",
        "print(huge.T.shape)"
      ],
      "execution_count": 75,
      "outputs": [
        {
          "output_type": "stream",
          "text": [
            "(5, 1638)\n",
            "(1638, 5)\n"
          ],
          "name": "stdout"
        }
      ]
    },
    {
      "metadata": {
        "id": "8Zzl_pRaufuN",
        "colab_type": "code",
        "colab": {
          "base_uri": "https://localhost:8080/",
          "height": 294
        },
        "outputId": "bd0e1bcb-8013-4f51-f934-5fe4342fbb40"
      },
      "cell_type": "code",
      "source": [
        "# Matrix inversion\n",
        "\n",
        "# M * M^i = I\n",
        "\n",
        "ident = np.identity(4)\n",
        "print(ident)\n",
        "\n",
        "random_4x4 = np.matrix(np.random.random(16)).reshape(4,4)\n",
        "print(random_4x4)\n",
        "inverted_random = np.linalg.inv(random_4x4)\n",
        "print(inverted_random)\n",
        "\n",
        "print(random_4x4 * inverted_random)"
      ],
      "execution_count": 84,
      "outputs": [
        {
          "output_type": "stream",
          "text": [
            "[[1. 0. 0. 0.]\n",
            " [0. 1. 0. 0.]\n",
            " [0. 0. 1. 0.]\n",
            " [0. 0. 0. 1.]]\n",
            "[[0.24480427 0.16715029 0.52427935 0.01717244]\n",
            " [0.14852393 0.82509937 0.68197517 0.23734214]\n",
            " [0.50300514 0.75638209 0.30156477 0.15698322]\n",
            " [0.32437817 0.6298711  0.01444639 0.89056786]]\n",
            "[[ 1.65052478 -1.99767819  1.63802528  0.21182797]\n",
            " [-1.94255773  1.11093351  0.88472816 -0.41456734]\n",
            " [ 1.73162707  0.5808102  -1.00741653 -0.01059943]\n",
            " [ 0.74463836 -0.06752133 -1.20602915  1.33910597]]\n",
            "[[ 1.00000000e+00 -1.24619650e-16  8.43125531e-17  1.76205740e-18]\n",
            " [ 7.75668381e-18  1.00000000e+00  6.56229495e-17 -1.00727220e-17]\n",
            " [-1.18799313e-16 -1.34066947e-16  1.00000000e+00  2.30939127e-18]\n",
            " [-2.41260652e-16 -3.91668043e-18 -1.44835610e-16  1.00000000e+00]]\n"
          ],
          "name": "stdout"
        }
      ]
    }
  ]
}