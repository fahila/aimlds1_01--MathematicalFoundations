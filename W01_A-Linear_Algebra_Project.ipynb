{
  "nbformat": 4,
  "nbformat_minor": 0,
  "metadata": {
    "colab": {
      "name": "Linear Algebra Project.ipynb",
      "version": "0.3.2",
      "provenance": []
    },
    "kernelspec": {
      "name": "python3",
      "display_name": "Python 3"
    }
  },
  "cells": [
    {
      "cell_type": "markdown",
      "metadata": {
        "id": "view-in-github",
        "colab_type": "text"
      },
      "source": [
        "[View in Colaboratory](https://colab.research.google.com/github/schwaaweb/aimlds1_01/blob/master/W01_A-Linear_Algebra_Project.ipynb)"
      ]
    },
    {
      "metadata": {
        "id": "NV8-PHX5Bd8P",
        "colab_type": "text"
      },
      "cell_type": "markdown",
      "source": [
        "# Transform Vectors with Matrices\n",
        "\n",
        "The most basic vectors are $v_0 = \\begin{pmatrix}1 \\\\ 0\\end{pmatrix}$ and $v_1 = \\begin{pmatrix}0 \\\\ 1\\end{pmatrix}$\n",
        "\n",
        "Any $2d$ point can be constr![alt text](https://)ucted with these two vectors.\n",
        "\n",
        "Using these $v_0$ and $v_1$, construct the remainder of the vectors $t_i in this lesson with matrix multiplication."
      ]
    },
    {
      "metadata": {
        "id": "kItGSZNpBX5B",
        "colab_type": "code",
        "colab": {
          "base_uri": "https://localhost:8080/",
          "height": 347
        },
        "outputId": "d16ff826-149a-4bbc-ed1e-ad49f1fe249a"
      },
      "cell_type": "code",
      "source": [
        "# LAMBDA SCHOOL\n",
        "#\n",
        "# MACHINE LEARNING\n",
        "#\n",
        "# MIT LICENSE\n",
        "\n",
        "import numpy as np\n",
        "import matplotlib.pyplot as plt\n",
        "\n",
        "v_0 = np.matrix([[1],[0]])\n",
        "v_1 = np.matrix([[0],[1]])\n",
        "\n",
        "# You can build vectors using a loop:\n",
        "#for i in [0,1,2,3,4]:\n",
        "#  print(i * v_0)\n",
        "\n",
        "# Or you can build them with a map\n",
        "t_0 = np.column_stack(map(lambda x: x * v_0, [0,1,2,3,4]))\n",
        "plt.plot(t_0[0:1:,::],t_0[1:2:,::],'ro');"
      ],
      "execution_count": 23,
      "outputs": [
        {
          "output_type": "display_data",
          "data": {
            "image/png": "[encoded data removed]",
            "text/plain": [
              "<matplotlib.figure.Figure at 0x7f49840c61d0>"
            ]
          },
          "metadata": {
            "tags": []
          }
        }
      ]
    },
    {
      "metadata": {
        "id": "ILNC0VduXhY3",
        "colab_type": "code",
        "colab": {
          "base_uri": "https://localhost:8080/",
          "height": 347
        },
        "outputId": "ee87bc2e-e349-4324-81de-65e5f3bd8813"
      },
      "cell_type": "code",
      "source": [
        "# Multiplying these vectors by a matrix allows us to transform them in interesting ways\n",
        "\n",
        "R = np.matrix([[0.7,-0.7],[0.7,0.7]])\n",
        "rotated = R * t_0\n",
        "plt.plot(rotated[0:1:,::],rotated[1:2:,::],'ro');\n",
        "\n",
        "# write a function that creates a rotation matrix R, taking only (theta) as argument\n",
        "def get_rotation_matrix(theta):\n",
        "  return np.matrix([]) # you fill this out\n",
        "\n",
        "# us it to transform t_0 around the origin and graph together\n",
        "# rotate by: 30, 90, 180, 225, and 310."
      ],
      "execution_count": 37,
      "outputs": [
        {
          "output_type": "display_data",
          "data": {
            "image/png": "[encoded data removed]",
            "text/plain": [
              "<matplotlib.figure.Figure at 0x7f4983f97940>"
            ]
          },
          "metadata": {
            "tags": []
          }
        }
      ]
    },
    {
      "metadata": {
        "id": "DMSIJdjOY06k",
        "colab_type": "code",
        "colab": {
          "base_uri": "https://localhost:8080/",
          "height": 347
        },
        "outputId": "2272051d-9db5-4205-da45-129dc0cb160c"
      },
      "cell_type": "code",
      "source": [
        "# Multiplying these vectors by a matrix allows us to shrink or grow them\n",
        "\n",
        "S = np.matrix([[0.1,0],[0,0.1]])\n",
        "scaled = S * t_0\n",
        "plt.plot(scaled[0:1:,::],scaled[1:2:,::],'ro');\n",
        "\n",
        "# Write a function to create a scaling matrix\n",
        "def get_scale_matrix(theta):\n",
        "  return np.matrix([]) # you fill this out\n",
        "\n",
        "# Use it and your rotation matrix to scale the rotated values from above by\n",
        "# 0.1, 0.5, 2.0, sqrt(2), and 40"
      ],
      "execution_count": 41,
      "outputs": [
        {
          "output_type": "display_data",
          "data": {
            "image/png": "[encoded data removed]",
            "text/plain": [
              "<matplotlib.figure.Figure at 0x7f4984466048>"
            ]
          },
          "metadata": {
            "tags": []
          }
        }
      ]
    },
    {
      "metadata": {
        "id": "cCY8hvLmZeUT",
        "colab_type": "code",
        "colab": {}
      },
      "cell_type": "code",
      "source": [
        "# Translation requires a special kind of matrix we will study tomorrow\n",
        "# You can translate with v_0 + x\n",
        "\n",
        "# You'll need to translate v_0 in order to reproduce sample_1 and sample_2 below"
      ],
      "execution_count": 0,
      "outputs": []
    },
    {
      "metadata": {
        "id": "CN2dFt69FN1S",
        "colab_type": "code",
        "colab": {
          "base_uri": "https://localhost:8080/",
          "height": 347
        },
        "outputId": "b0334783-f26b-49fb-fc6b-4df0c24ec098"
      },
      "cell_type": "code",
      "source": [
        "# Use linear algebra to reproduce the following points:\n",
        "\n",
        "sample_1 = np.matrix([[3,2,1,0,-1,-2,-3],[-3,-2,-1,0,1,2,3]])\n",
        "sample_2 = np.matrix([[-3,-2,-1,0,1,2,3],[-3,-2,-1,-0,1,2,3]])\n",
        "t_1 = sample_1\n",
        "t_2 = sample_2\n",
        "plt.plot(t_1[0:1:,::],t_1[1:2:,::],'ro');\n",
        "plt.plot(t_2[0:1:,::],t_2[1:2:,::],'bo');\n"
      ],
      "execution_count": 42,
      "outputs": [
        {
          "output_type": "display_data",
          "data": {
            "image/png": "[encoded data removed]",
            "text/plain": [
              "<matplotlib.figure.Figure at 0x7f49842b62e8>"
            ]
          },
          "metadata": {
            "tags": []
          }
        }
      ]
    },
    {
      "metadata": {
        "id": "JWGCqvXnZrNT",
        "colab_type": "code",
        "colab": {}
      },
      "cell_type": "code",
      "source": [
        "# Accomplish that here"
      ],
      "execution_count": 0,
      "outputs": []
    },
    {
      "metadata": {
        "id": "8NgKbcTrbPME",
        "colab_type": "code",
        "colab": {}
      },
      "cell_type": "code",
      "source": [
        "# Draw me something using the rules above\n"
      ],
      "execution_count": 0,
      "outputs": []
    }
  ]
}